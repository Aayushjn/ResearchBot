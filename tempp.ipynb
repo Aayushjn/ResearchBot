{
 "cells": [
  {
   "cell_type": "code",
   "execution_count": null,
   "metadata": {},
   "outputs": [],
   "source": [
    "# from sklearn.feature_extraction.text import TfidfVectorizer\n",
    "# from sklearn.metrics.pairwise import cosine_similarity\n",
    "# from sklearn.cluster 1  import KMeans\n",
    "\n",
    "# # ... (existing code for searching papers)\n",
    "\n",
    "# # Feature extraction with TF-IDF\n",
    "# vectorizer = TfidfVectorizer()\n",
    "# features = vectorizer.fit_transform([result[\"title\"] + \" \" + result[\"abstract\"] + \" \" + result[\"tldr\"] for result in results])\n",
    "\n",
    "# # Similarity matrix\n",
    "# similarity_matrix = cosine_similarity(features)\n",
    "\n",
    "# # Clustering with KMeans (adjust number of clusters as needed)\n",
    "# kmeans = KMeans(n_clusters=3)\n",
    "# kmeans.fit(features)\n",
    "\n",
    "# # Assign each paper to a cluster\n",
    "# clusters = kmeans.labels_\n",
    "\n",
    "# # Print paper information with assigned cluster\n",
    "# for i, result in enumerate(results):\n",
    "#   print(f\"Paper: {result['title']}, Cluster: {clusters[i]}\")"
   ]
  },
  {
   "cell_type": "code",
   "execution_count": 12,
   "metadata": {},
   "outputs": [],
   "source": [
    "from datetime import date\n",
    "from pprint import pprint\n",
    "from typing_extensions import TypedDict\n",
    "import json\n",
    "\n",
    "from sklearn.feature_extraction.text import TfidfVectorizer\n",
    "from sklearn.cluster import KMeans\n",
    "\n",
    "from dotenv import find_dotenv, load_dotenv\n",
    "from semanticscholar import SemanticScholar\n",
    "import google.generativeai as genai\n",
    "from google.oauth2 import service_account\n",
    "import os"
   ]
  },
  {
   "cell_type": "code",
   "execution_count": 13,
   "metadata": {},
   "outputs": [],
   "source": [
    "load_dotenv(dotenv_path=\"API_key.env\")\n",
    "service_account_key = os.getenv(\"GEMINI_API_KEY\")\n",
    "credentials = service_account.Credentials.from_service_account_file(service_account_key)\n",
    "genai.configure(credentials=credentials)\n"
   ]
  },
  {
   "cell_type": "code",
   "execution_count": 17,
   "metadata": {},
   "outputs": [],
   "source": [
    "sch = SemanticScholar(timeout=15)\n",
    "\n",
    "\n",
    "def search_semantic_scholar(query: str, year: tuple[int, int]) -> list:\n",
    "    \"\"\"Searches Semantic Scholar for papers with retry logic.\"\"\"\n",
    "    return sch.search_paper(\n",
    "        query=query,\n",
    "        year=f\"{year[0]}-{year[1]}\",\n",
    "        open_access_pdf=True,\n",
    "        fields_of_study=[\"Computer Science\"],\n",
    "        fields=[\"paperId\", \"title\", \"abstract\", \"tldr\", \"openAccessPdf\"],\n",
    "        limit=15,\n",
    "    )"
   ]
  },
  {
   "cell_type": "code",
   "execution_count": 18,
   "metadata": {},
   "outputs": [],
   "source": [
    "def extract_techniques(paper):\n",
    "    \"\"\"Extracts techniques from a paper's title, abstract, and TLDR.\"\"\"\n",
    "    text = paper[\"title\"] + \" \" + paper[\"abstract\"] + \" \" + paper[\"tldr\"]\n",
    "    # Use NLP techniques (e.g., named entity recognition, keyword extraction) to extract techniques\n",
    "    techniques = extract_keywords(text)  # Replace with your keyword extraction function\n",
    "    return techniques\n",
    "\n",
    "def cluster_papers(papers):\n",
    "    \"\"\"Clusters papers based on extracted techniques.\"\"\"\n",
    "    texts = [extract_techniques(paper) for paper in papers]\n",
    "    vectorizer = TfidfVectorizer()\n",
    "    tfidf_matrix = vectorizer.fit_transform(texts)\n",
    "\n",
    "    # Use KMeans clustering with 4 clusters (adjust as needed)\n",
    "\n",
    "    kmeans = KMeans(n_clusters=4, random_state=42)\n",
    "    kmeans.fit(tfidf_matrix)\n",
    "    cluster_labels = kmeans.labels_\n",
    "\n",
    "    # Organize papers into clusters based on labels\n",
    "    \n",
    "    categories = {i: [] for i in range(4)}\n",
    "    for paper, label in zip(papers, cluster_labels):\n",
    "        categories[label].append(paper)\n",
    "\n",
    "    return categories"
   ]
  },
  {
   "cell_type": "code",
   "execution_count": 19,
   "metadata": {},
   "outputs": [],
   "source": [
    "system_instruction = \"\"\"\n",
    "You are a Computer Science PhD student. Your goal is to write review/survey papers in specific areas of Computer Science. You should be able to:\n",
    "- Identify research problems and break them down into sub problems\n",
    "- Conduct thorough literature review on your topic, summarize key findings and identify gaps in existing methodologies\n",
    "- Formulate clear and testable hypotheses to address your research questions\n",
    "- Develop experimental methodologies to test your hypotheses, considering factors such as data collection, analysis, and evaluation\n",
    "- Collect, clean and analyze relevant data using appropriate tools and techniques\n",
    "- Draw meaningful conclusions from your research findings and discuss their implications\n",
    "- Prepare high-quality research papers that effectively communicate your findings\n",
    "\"\"\"\n",
    "model = genai.GenerativeModel(model_name=\"gemini-1.5-flash\", system_instruction=system_instruction)"
   ]
  },
  {
   "cell_type": "code",
   "execution_count": 20,
   "metadata": {},
   "outputs": [],
   "source": [
    "class Subproblem(TypedDict):\n",
    "    prompt: str\n",
    "    requires_internet: bool\n",
    "    requires_previous_output: bool\n",
    "\n",
    "\n",
    "topic = \"Augmented reality\"\n",
    "prompt = f\"\"\"\n",
    "You are researching the below topic and need to write a survey paper on the same. Your current goal is only to research on the topic \n",
    "and not write anything currently.\n",
    "\n",
    "Topic: {topic}\n",
    "\n",
    "Instructions:\n",
    "- Identify the key areas of focus within this topic and outline the subproblems that need to be addressed\n",
    "- For each subproblem, create a concise prompt that states the task to be performed\n",
    "- Indicate whether internet access is necessary to complete the subproblem. Assume that around 15-20 relevant research papers will be provided to you.\n",
    "- Determine if the output of the previous subproblem is relevant to the subsequent subproblem\n",
    "- Your first subproblem should always be a query string that can be used to find relevant research papers from the Semantic Scholar database\n",
    "\n",
    "Do not generate the same instructions as your output. Ensure that you provide relevant subproblems that can be addressed by you.\n",
    "Ensure that your output is in the correct format since it will be parsed automatically.\n",
    "\"\"\"\n",
    "\n",
    "gen_config = {\n",
    "    \"response_mime_type\": \"application/json\",\n",
    "    \"response_schema\": list[Subproblem]\n",
    "}\n",
    "\n",
    "response = model.generate_content(prompt, generation_config=gen_config)"
   ]
  },
  {
   "cell_type": "code",
   "execution_count": 21,
   "metadata": {},
   "outputs": [
    {
     "ename": "RetryError",
     "evalue": "RetryError[<Future at 0x23cdce96690 state=finished raised ConnectionRefusedError>]",
     "output_type": "error",
     "traceback": [
      "\u001b[1;31m---------------------------------------------------------------------------\u001b[0m",
      "\u001b[1;31mConnectionRefusedError\u001b[0m                    Traceback (most recent call last)",
      "File \u001b[1;32md:\\BITS Pilani\\Software System\\SEM 3\\HCD LLM\\ResearchBot-main\\llm\\Lib\\site-packages\\tenacity\\asyncio\\__init__.py:114\u001b[0m, in \u001b[0;36mAsyncRetrying.__call__\u001b[1;34m(self, fn, *args, **kwargs)\u001b[0m\n\u001b[0;32m    113\u001b[0m \u001b[38;5;28;01mtry\u001b[39;00m:\n\u001b[1;32m--> 114\u001b[0m     result \u001b[38;5;241m=\u001b[39m \u001b[38;5;28;01mawait\u001b[39;00m fn(\u001b[38;5;241m*\u001b[39margs, \u001b[38;5;241m*\u001b[39m\u001b[38;5;241m*\u001b[39mkwargs)\n\u001b[0;32m    115\u001b[0m \u001b[38;5;28;01mexcept\u001b[39;00m \u001b[38;5;167;01mBaseException\u001b[39;00m:  \u001b[38;5;66;03m# noqa: B902\u001b[39;00m\n",
      "File \u001b[1;32md:\\BITS Pilani\\Software System\\SEM 3\\HCD LLM\\ResearchBot-main\\llm\\Lib\\site-packages\\semanticscholar\\ApiRequester.py:135\u001b[0m, in \u001b[0;36mApiRequester._get_data_async\u001b[1;34m(self, url, parameters, headers, payload)\u001b[0m\n\u001b[0;32m    134\u001b[0m \u001b[38;5;28;01melif\u001b[39;00m r\u001b[38;5;241m.\u001b[39mstatus_code \u001b[38;5;241m==\u001b[39m \u001b[38;5;241m429\u001b[39m:\n\u001b[1;32m--> 135\u001b[0m     \u001b[38;5;28;01mraise\u001b[39;00m \u001b[38;5;167;01mConnectionRefusedError\u001b[39;00m(\u001b[38;5;124m'\u001b[39m\u001b[38;5;124mHTTP status 429 Too Many Requests.\u001b[39m\u001b[38;5;124m'\u001b[39m)\n\u001b[0;32m    136\u001b[0m \u001b[38;5;28;01melif\u001b[39;00m r\u001b[38;5;241m.\u001b[39mstatus_code \u001b[38;5;241m==\u001b[39m \u001b[38;5;241m500\u001b[39m:\n",
      "\u001b[1;31mConnectionRefusedError\u001b[0m: HTTP status 429 Too Many Requests.",
      "\nThe above exception was the direct cause of the following exception:\n",
      "\u001b[1;31mRetryError\u001b[0m                                Traceback (most recent call last)",
      "Cell \u001b[1;32mIn[21], line 4\u001b[0m\n\u001b[0;32m      1\u001b[0m subproblems \u001b[38;5;241m=\u001b[39m json\u001b[38;5;241m.\u001b[39mloads(response\u001b[38;5;241m.\u001b[39mtext)\n\u001b[0;32m      2\u001b[0m year \u001b[38;5;241m=\u001b[39m date\u001b[38;5;241m.\u001b[39mtoday()\u001b[38;5;241m.\u001b[39myear\n\u001b[1;32m----> 4\u001b[0m results \u001b[38;5;241m=\u001b[39m \u001b[43msearch_semantic_scholar\u001b[49m\u001b[43m(\u001b[49m\u001b[43msubproblems\u001b[49m\u001b[43m[\u001b[49m\u001b[38;5;241;43m0\u001b[39;49m\u001b[43m]\u001b[49m\u001b[43m[\u001b[49m\u001b[38;5;124;43m\"\u001b[39;49m\u001b[38;5;124;43mprompt\u001b[39;49m\u001b[38;5;124;43m\"\u001b[39;49m\u001b[43m]\u001b[49m\u001b[43m,\u001b[49m\u001b[43m \u001b[49m\u001b[43m(\u001b[49m\u001b[43myear\u001b[49m\u001b[43m \u001b[49m\u001b[38;5;241;43m-\u001b[39;49m\u001b[43m \u001b[49m\u001b[38;5;241;43m10\u001b[39;49m\u001b[43m,\u001b[49m\u001b[43m \u001b[49m\u001b[43myear\u001b[49m\u001b[43m)\u001b[49m\u001b[43m)\u001b[49m\n\u001b[0;32m      6\u001b[0m max_results \u001b[38;5;241m=\u001b[39m \u001b[38;5;241m15\u001b[39m  \u001b[38;5;66;03m# Adjust this value based on expected results\u001b[39;00m\n\u001b[0;32m      9\u001b[0m \u001b[38;5;66;03m# Categorize papers\u001b[39;00m\n",
      "Cell \u001b[1;32mIn[17], line 6\u001b[0m, in \u001b[0;36msearch_semantic_scholar\u001b[1;34m(query, year)\u001b[0m\n\u001b[0;32m      4\u001b[0m \u001b[38;5;28;01mdef\u001b[39;00m \u001b[38;5;21msearch_semantic_scholar\u001b[39m(query: \u001b[38;5;28mstr\u001b[39m, year: \u001b[38;5;28mtuple\u001b[39m[\u001b[38;5;28mint\u001b[39m, \u001b[38;5;28mint\u001b[39m]) \u001b[38;5;241m-\u001b[39m\u001b[38;5;241m>\u001b[39m \u001b[38;5;28mlist\u001b[39m:\n\u001b[0;32m      5\u001b[0m \u001b[38;5;250m    \u001b[39m\u001b[38;5;124;03m\"\"\"Searches Semantic Scholar for papers with retry logic.\"\"\"\u001b[39;00m\n\u001b[1;32m----> 6\u001b[0m     \u001b[38;5;28;01mreturn\u001b[39;00m \u001b[43msch\u001b[49m\u001b[38;5;241;43m.\u001b[39;49m\u001b[43msearch_paper\u001b[49m\u001b[43m(\u001b[49m\n\u001b[0;32m      7\u001b[0m \u001b[43m        \u001b[49m\u001b[43mquery\u001b[49m\u001b[38;5;241;43m=\u001b[39;49m\u001b[43mquery\u001b[49m\u001b[43m,\u001b[49m\n\u001b[0;32m      8\u001b[0m \u001b[43m        \u001b[49m\u001b[43myear\u001b[49m\u001b[38;5;241;43m=\u001b[39;49m\u001b[38;5;124;43mf\u001b[39;49m\u001b[38;5;124;43m\"\u001b[39;49m\u001b[38;5;132;43;01m{\u001b[39;49;00m\u001b[43myear\u001b[49m\u001b[43m[\u001b[49m\u001b[38;5;241;43m0\u001b[39;49m\u001b[43m]\u001b[49m\u001b[38;5;132;43;01m}\u001b[39;49;00m\u001b[38;5;124;43m-\u001b[39;49m\u001b[38;5;132;43;01m{\u001b[39;49;00m\u001b[43myear\u001b[49m\u001b[43m[\u001b[49m\u001b[38;5;241;43m1\u001b[39;49m\u001b[43m]\u001b[49m\u001b[38;5;132;43;01m}\u001b[39;49;00m\u001b[38;5;124;43m\"\u001b[39;49m\u001b[43m,\u001b[49m\n\u001b[0;32m      9\u001b[0m \u001b[43m        \u001b[49m\u001b[43mopen_access_pdf\u001b[49m\u001b[38;5;241;43m=\u001b[39;49m\u001b[38;5;28;43;01mTrue\u001b[39;49;00m\u001b[43m,\u001b[49m\n\u001b[0;32m     10\u001b[0m \u001b[43m        \u001b[49m\u001b[43mfields_of_study\u001b[49m\u001b[38;5;241;43m=\u001b[39;49m\u001b[43m[\u001b[49m\u001b[38;5;124;43m\"\u001b[39;49m\u001b[38;5;124;43mComputer Science\u001b[39;49m\u001b[38;5;124;43m\"\u001b[39;49m\u001b[43m]\u001b[49m\u001b[43m,\u001b[49m\n\u001b[0;32m     11\u001b[0m \u001b[43m        \u001b[49m\u001b[43mfields\u001b[49m\u001b[38;5;241;43m=\u001b[39;49m\u001b[43m[\u001b[49m\u001b[38;5;124;43m\"\u001b[39;49m\u001b[38;5;124;43mpaperId\u001b[39;49m\u001b[38;5;124;43m\"\u001b[39;49m\u001b[43m,\u001b[49m\u001b[43m \u001b[49m\u001b[38;5;124;43m\"\u001b[39;49m\u001b[38;5;124;43mtitle\u001b[39;49m\u001b[38;5;124;43m\"\u001b[39;49m\u001b[43m,\u001b[49m\u001b[43m \u001b[49m\u001b[38;5;124;43m\"\u001b[39;49m\u001b[38;5;124;43mabstract\u001b[39;49m\u001b[38;5;124;43m\"\u001b[39;49m\u001b[43m,\u001b[49m\u001b[43m \u001b[49m\u001b[38;5;124;43m\"\u001b[39;49m\u001b[38;5;124;43mtldr\u001b[39;49m\u001b[38;5;124;43m\"\u001b[39;49m\u001b[43m,\u001b[49m\u001b[43m \u001b[49m\u001b[38;5;124;43m\"\u001b[39;49m\u001b[38;5;124;43mopenAccessPdf\u001b[39;49m\u001b[38;5;124;43m\"\u001b[39;49m\u001b[43m]\u001b[49m\u001b[43m,\u001b[49m\n\u001b[0;32m     12\u001b[0m \u001b[43m        \u001b[49m\u001b[43mlimit\u001b[49m\u001b[38;5;241;43m=\u001b[39;49m\u001b[38;5;241;43m15\u001b[39;49m\u001b[43m,\u001b[49m\n\u001b[0;32m     13\u001b[0m \u001b[43m    \u001b[49m\u001b[43m)\u001b[49m\n",
      "File \u001b[1;32md:\\BITS Pilani\\Software System\\SEM 3\\HCD LLM\\ResearchBot-main\\llm\\Lib\\site-packages\\semanticscholar\\SemanticScholar.py:348\u001b[0m, in \u001b[0;36mSemanticScholar.search_paper\u001b[1;34m(self, query, year, publication_types, open_access_pdf, venue, fields_of_study, fields, publication_date_or_year, min_citation_count, limit, bulk, sort)\u001b[0m\n\u001b[0;32m    303\u001b[0m \u001b[38;5;250m\u001b[39m\u001b[38;5;124;03m'''Search for papers by keyword. Performs a search query based on the \\\u001b[39;00m\n\u001b[0;32m    304\u001b[0m \u001b[38;5;124;03m    S2 search relevance algorithm, or a bulk retrieval of basic paper \\\u001b[39;00m\n\u001b[0;32m    305\u001b[0m \u001b[38;5;124;03m    data without search relevance (if bulk=True). Paper relevance \\\u001b[39;00m\n\u001b[1;32m   (...)\u001b[0m\n\u001b[0;32m    344\u001b[0m \u001b[38;5;124;03m:rtype: :class:`semanticscholar.PaginatedResults.PaginatedResults`\u001b[39;00m\n\u001b[0;32m    345\u001b[0m \u001b[38;5;124;03m'''\u001b[39;00m\n\u001b[0;32m    347\u001b[0m loop \u001b[38;5;241m=\u001b[39m asyncio\u001b[38;5;241m.\u001b[39mget_event_loop()\n\u001b[1;32m--> 348\u001b[0m results \u001b[38;5;241m=\u001b[39m \u001b[43mloop\u001b[49m\u001b[38;5;241;43m.\u001b[39;49m\u001b[43mrun_until_complete\u001b[49m\u001b[43m(\u001b[49m\n\u001b[0;32m    349\u001b[0m \u001b[43m    \u001b[49m\u001b[38;5;28;43mself\u001b[39;49m\u001b[38;5;241;43m.\u001b[39;49m\u001b[43m_AsyncSemanticScholar\u001b[49m\u001b[38;5;241;43m.\u001b[39;49m\u001b[43msearch_paper\u001b[49m\u001b[43m(\u001b[49m\n\u001b[0;32m    350\u001b[0m \u001b[43m        \u001b[49m\u001b[43mquery\u001b[49m\u001b[38;5;241;43m=\u001b[39;49m\u001b[43mquery\u001b[49m\u001b[43m,\u001b[49m\n\u001b[0;32m    351\u001b[0m \u001b[43m        \u001b[49m\u001b[43myear\u001b[49m\u001b[38;5;241;43m=\u001b[39;49m\u001b[43myear\u001b[49m\u001b[43m,\u001b[49m\n\u001b[0;32m    352\u001b[0m \u001b[43m        \u001b[49m\u001b[43mpublication_types\u001b[49m\u001b[38;5;241;43m=\u001b[39;49m\u001b[43mpublication_types\u001b[49m\u001b[43m,\u001b[49m\n\u001b[0;32m    353\u001b[0m \u001b[43m        \u001b[49m\u001b[43mopen_access_pdf\u001b[49m\u001b[38;5;241;43m=\u001b[39;49m\u001b[43mopen_access_pdf\u001b[49m\u001b[43m,\u001b[49m\n\u001b[0;32m    354\u001b[0m \u001b[43m        \u001b[49m\u001b[43mvenue\u001b[49m\u001b[38;5;241;43m=\u001b[39;49m\u001b[43mvenue\u001b[49m\u001b[43m,\u001b[49m\n\u001b[0;32m    355\u001b[0m \u001b[43m        \u001b[49m\u001b[43mfields_of_study\u001b[49m\u001b[38;5;241;43m=\u001b[39;49m\u001b[43mfields_of_study\u001b[49m\u001b[43m,\u001b[49m\n\u001b[0;32m    356\u001b[0m \u001b[43m        \u001b[49m\u001b[43mfields\u001b[49m\u001b[38;5;241;43m=\u001b[39;49m\u001b[43mfields\u001b[49m\u001b[43m,\u001b[49m\n\u001b[0;32m    357\u001b[0m \u001b[43m        \u001b[49m\u001b[43mpublication_date_or_year\u001b[49m\u001b[38;5;241;43m=\u001b[39;49m\u001b[43mpublication_date_or_year\u001b[49m\u001b[43m,\u001b[49m\n\u001b[0;32m    358\u001b[0m \u001b[43m        \u001b[49m\u001b[43mmin_citation_count\u001b[49m\u001b[38;5;241;43m=\u001b[39;49m\u001b[43mmin_citation_count\u001b[49m\u001b[43m,\u001b[49m\n\u001b[0;32m    359\u001b[0m \u001b[43m        \u001b[49m\u001b[43mlimit\u001b[49m\u001b[38;5;241;43m=\u001b[39;49m\u001b[43mlimit\u001b[49m\u001b[43m,\u001b[49m\n\u001b[0;32m    360\u001b[0m \u001b[43m        \u001b[49m\u001b[43mbulk\u001b[49m\u001b[38;5;241;43m=\u001b[39;49m\u001b[43mbulk\u001b[49m\u001b[43m,\u001b[49m\n\u001b[0;32m    361\u001b[0m \u001b[43m        \u001b[49m\u001b[43msort\u001b[49m\u001b[38;5;241;43m=\u001b[39;49m\u001b[43msort\u001b[49m\n\u001b[0;32m    362\u001b[0m \u001b[43m        \u001b[49m\u001b[43m)\u001b[49m\n\u001b[0;32m    363\u001b[0m \u001b[43m\u001b[49m\u001b[43m)\u001b[49m\n\u001b[0;32m    365\u001b[0m \u001b[38;5;28;01mreturn\u001b[39;00m results\n",
      "File \u001b[1;32md:\\BITS Pilani\\Software System\\SEM 3\\HCD LLM\\ResearchBot-main\\llm\\Lib\\site-packages\\nest_asyncio.py:98\u001b[0m, in \u001b[0;36m_patch_loop.<locals>.run_until_complete\u001b[1;34m(self, future)\u001b[0m\n\u001b[0;32m     95\u001b[0m \u001b[38;5;28;01mif\u001b[39;00m \u001b[38;5;129;01mnot\u001b[39;00m f\u001b[38;5;241m.\u001b[39mdone():\n\u001b[0;32m     96\u001b[0m     \u001b[38;5;28;01mraise\u001b[39;00m \u001b[38;5;167;01mRuntimeError\u001b[39;00m(\n\u001b[0;32m     97\u001b[0m         \u001b[38;5;124m'\u001b[39m\u001b[38;5;124mEvent loop stopped before Future completed.\u001b[39m\u001b[38;5;124m'\u001b[39m)\n\u001b[1;32m---> 98\u001b[0m \u001b[38;5;28;01mreturn\u001b[39;00m \u001b[43mf\u001b[49m\u001b[38;5;241;43m.\u001b[39;49m\u001b[43mresult\u001b[49m\u001b[43m(\u001b[49m\u001b[43m)\u001b[49m\n",
      "File \u001b[1;32m~\\AppData\\Local\\Programs\\Python\\Python311\\Lib\\asyncio\\futures.py:203\u001b[0m, in \u001b[0;36mFuture.result\u001b[1;34m(self)\u001b[0m\n\u001b[0;32m    201\u001b[0m \u001b[38;5;28mself\u001b[39m\u001b[38;5;241m.\u001b[39m__log_traceback \u001b[38;5;241m=\u001b[39m \u001b[38;5;28;01mFalse\u001b[39;00m\n\u001b[0;32m    202\u001b[0m \u001b[38;5;28;01mif\u001b[39;00m \u001b[38;5;28mself\u001b[39m\u001b[38;5;241m.\u001b[39m_exception \u001b[38;5;129;01mis\u001b[39;00m \u001b[38;5;129;01mnot\u001b[39;00m \u001b[38;5;28;01mNone\u001b[39;00m:\n\u001b[1;32m--> 203\u001b[0m     \u001b[38;5;28;01mraise\u001b[39;00m \u001b[38;5;28mself\u001b[39m\u001b[38;5;241m.\u001b[39m_exception\u001b[38;5;241m.\u001b[39mwith_traceback(\u001b[38;5;28mself\u001b[39m\u001b[38;5;241m.\u001b[39m_exception_tb)\n\u001b[0;32m    204\u001b[0m \u001b[38;5;28;01mreturn\u001b[39;00m \u001b[38;5;28mself\u001b[39m\u001b[38;5;241m.\u001b[39m_result\n",
      "File \u001b[1;32m~\\AppData\\Local\\Programs\\Python\\Python311\\Lib\\asyncio\\tasks.py:267\u001b[0m, in \u001b[0;36mTask.__step\u001b[1;34m(***failed resolving arguments***)\u001b[0m\n\u001b[0;32m    263\u001b[0m \u001b[38;5;28;01mtry\u001b[39;00m:\n\u001b[0;32m    264\u001b[0m     \u001b[38;5;28;01mif\u001b[39;00m exc \u001b[38;5;129;01mis\u001b[39;00m \u001b[38;5;28;01mNone\u001b[39;00m:\n\u001b[0;32m    265\u001b[0m         \u001b[38;5;66;03m# We use the `send` method directly, because coroutines\u001b[39;00m\n\u001b[0;32m    266\u001b[0m         \u001b[38;5;66;03m# don't have `__iter__` and `__next__` methods.\u001b[39;00m\n\u001b[1;32m--> 267\u001b[0m         result \u001b[38;5;241m=\u001b[39m coro\u001b[38;5;241m.\u001b[39msend(\u001b[38;5;28;01mNone\u001b[39;00m)\n\u001b[0;32m    268\u001b[0m     \u001b[38;5;28;01melse\u001b[39;00m:\n\u001b[0;32m    269\u001b[0m         result \u001b[38;5;241m=\u001b[39m coro\u001b[38;5;241m.\u001b[39mthrow(exc)\n",
      "File \u001b[1;32md:\\BITS Pilani\\Software System\\SEM 3\\HCD LLM\\ResearchBot-main\\llm\\Lib\\site-packages\\semanticscholar\\AsyncSemanticScholar.py:496\u001b[0m, in \u001b[0;36mAsyncSemanticScholar.search_paper\u001b[1;34m(self, query, year, publication_types, open_access_pdf, venue, fields_of_study, fields, publication_date_or_year, min_citation_count, limit, bulk, sort)\u001b[0m\n\u001b[0;32m    492\u001b[0m     query \u001b[38;5;241m+\u001b[39m\u001b[38;5;241m=\u001b[39m \u001b[38;5;124mf\u001b[39m\u001b[38;5;124m'\u001b[39m\u001b[38;5;124m&minCitationCount=\u001b[39m\u001b[38;5;132;01m{\u001b[39;00mmin_citation_count\u001b[38;5;132;01m}\u001b[39;00m\u001b[38;5;124m'\u001b[39m\n\u001b[0;32m    494\u001b[0m max_results \u001b[38;5;241m=\u001b[39m \u001b[38;5;241m10000000\u001b[39m \u001b[38;5;28;01mif\u001b[39;00m bulk \u001b[38;5;28;01melse\u001b[39;00m \u001b[38;5;241m1000\u001b[39m\n\u001b[1;32m--> 496\u001b[0m results \u001b[38;5;241m=\u001b[39m \u001b[38;5;28;01mawait\u001b[39;00m PaginatedResults\u001b[38;5;241m.\u001b[39mcreate(\n\u001b[0;32m    497\u001b[0m         \u001b[38;5;28mself\u001b[39m\u001b[38;5;241m.\u001b[39m_requester,\n\u001b[0;32m    498\u001b[0m         Paper,\n\u001b[0;32m    499\u001b[0m         url,\n\u001b[0;32m    500\u001b[0m         query,\n\u001b[0;32m    501\u001b[0m         fields,\n\u001b[0;32m    502\u001b[0m         limit,\n\u001b[0;32m    503\u001b[0m         \u001b[38;5;28mself\u001b[39m\u001b[38;5;241m.\u001b[39mauth_header,\n\u001b[0;32m    504\u001b[0m         max_results\u001b[38;5;241m=\u001b[39mmax_results\n\u001b[0;32m    505\u001b[0m     )\n\u001b[0;32m    507\u001b[0m \u001b[38;5;28;01mreturn\u001b[39;00m results\n",
      "File \u001b[1;32md:\\BITS Pilani\\Software System\\SEM 3\\HCD LLM\\ResearchBot-main\\llm\\Lib\\site-packages\\semanticscholar\\PaginatedResults.py:56\u001b[0m, in \u001b[0;36mPaginatedResults.create\u001b[1;34m(cls, *args, **kwargs)\u001b[0m\n\u001b[0;32m     45\u001b[0m \u001b[38;5;129m@classmethod\u001b[39m\n\u001b[0;32m     46\u001b[0m \u001b[38;5;28;01masync\u001b[39;00m \u001b[38;5;28;01mdef\u001b[39;00m \u001b[38;5;21mcreate\u001b[39m(\n\u001b[0;32m     47\u001b[0m             \u001b[38;5;28mcls\u001b[39m,\n\u001b[0;32m     48\u001b[0m             \u001b[38;5;241m*\u001b[39margs, \n\u001b[0;32m     49\u001b[0m             \u001b[38;5;241m*\u001b[39m\u001b[38;5;241m*\u001b[39mkwargs\n\u001b[0;32m     50\u001b[0m         ):\n\u001b[0;32m     52\u001b[0m     obj \u001b[38;5;241m=\u001b[39m \u001b[38;5;28mcls\u001b[39m(\n\u001b[0;32m     53\u001b[0m         \u001b[38;5;241m*\u001b[39margs,\n\u001b[0;32m     54\u001b[0m         \u001b[38;5;241m*\u001b[39m\u001b[38;5;241m*\u001b[39mkwargs\n\u001b[0;32m     55\u001b[0m     )\n\u001b[1;32m---> 56\u001b[0m     \u001b[38;5;28;01mawait\u001b[39;00m obj\u001b[38;5;241m.\u001b[39m_async_get_next_page()\n\u001b[0;32m     58\u001b[0m     \u001b[38;5;28;01mreturn\u001b[39;00m obj\n",
      "File \u001b[1;32md:\\BITS Pilani\\Software System\\SEM 3\\HCD LLM\\ResearchBot-main\\llm\\Lib\\site-packages\\semanticscholar\\PaginatedResults.py:139\u001b[0m, in \u001b[0;36mPaginatedResults._async_get_next_page\u001b[1;34m(self)\u001b[0m\n\u001b[0;32m    136\u001b[0m \u001b[38;5;28;01masync\u001b[39;00m \u001b[38;5;28;01mdef\u001b[39;00m \u001b[38;5;21m_async_get_next_page\u001b[39m(\u001b[38;5;28mself\u001b[39m) \u001b[38;5;241m-\u001b[39m\u001b[38;5;241m>\u001b[39m Union[\u001b[38;5;28mdict\u001b[39m, List[\u001b[38;5;28mdict\u001b[39m]]:\n\u001b[0;32m    137\u001b[0m     \u001b[38;5;28mself\u001b[39m\u001b[38;5;241m.\u001b[39m_build_params()\n\u001b[1;32m--> 139\u001b[0m     results \u001b[38;5;241m=\u001b[39m \u001b[38;5;28;01mawait\u001b[39;00m \u001b[38;5;28mself\u001b[39m\u001b[38;5;241m.\u001b[39m_request_data()\n\u001b[0;32m    141\u001b[0m     \u001b[38;5;28;01mreturn\u001b[39;00m \u001b[38;5;28mself\u001b[39m\u001b[38;5;241m.\u001b[39m_update_params(results)\n",
      "File \u001b[1;32md:\\BITS Pilani\\Software System\\SEM 3\\HCD LLM\\ResearchBot-main\\llm\\Lib\\site-packages\\semanticscholar\\PaginatedResults.py:130\u001b[0m, in \u001b[0;36mPaginatedResults._request_data\u001b[1;34m(self)\u001b[0m\n\u001b[0;32m    129\u001b[0m \u001b[38;5;28;01masync\u001b[39;00m \u001b[38;5;28;01mdef\u001b[39;00m \u001b[38;5;21m_request_data\u001b[39m(\u001b[38;5;28mself\u001b[39m) \u001b[38;5;241m-\u001b[39m\u001b[38;5;241m>\u001b[39m Union[\u001b[38;5;28mdict\u001b[39m, List[\u001b[38;5;28mdict\u001b[39m]]:\n\u001b[1;32m--> 130\u001b[0m     \u001b[38;5;28;01mreturn\u001b[39;00m \u001b[38;5;28;01mawait\u001b[39;00m \u001b[38;5;28mself\u001b[39m\u001b[38;5;241m.\u001b[39m_requester\u001b[38;5;241m.\u001b[39mget_data_async(\n\u001b[0;32m    131\u001b[0m         \u001b[38;5;28mself\u001b[39m\u001b[38;5;241m.\u001b[39m_url,\n\u001b[0;32m    132\u001b[0m         \u001b[38;5;28mself\u001b[39m\u001b[38;5;241m.\u001b[39m_parameters,\n\u001b[0;32m    133\u001b[0m         \u001b[38;5;28mself\u001b[39m\u001b[38;5;241m.\u001b[39m_headers\n\u001b[0;32m    134\u001b[0m     )\n",
      "File \u001b[1;32md:\\BITS Pilani\\Software System\\SEM 3\\HCD LLM\\ResearchBot-main\\llm\\Lib\\site-packages\\semanticscholar\\ApiRequester.py:89\u001b[0m, in \u001b[0;36mApiRequester.get_data_async\u001b[1;34m(self, url, parameters, headers, payload)\u001b[0m\n\u001b[0;32m     79\u001b[0m \u001b[38;5;250m\u001b[39m\u001b[38;5;124;03m'''Get data from Semantic Scholar API\u001b[39;00m\n\u001b[0;32m     80\u001b[0m \n\u001b[0;32m     81\u001b[0m \u001b[38;5;124;03m:param str url: absolute URL to API endpoint.\u001b[39;00m\n\u001b[1;32m   (...)\u001b[0m\n\u001b[0;32m     86\u001b[0m \u001b[38;5;124;03m:rtype: :class:`dict` or :class:`List` of :class:`dict`\u001b[39;00m\n\u001b[0;32m     87\u001b[0m \u001b[38;5;124;03m'''\u001b[39;00m\n\u001b[0;32m     88\u001b[0m \u001b[38;5;28;01mif\u001b[39;00m \u001b[38;5;28mself\u001b[39m\u001b[38;5;241m.\u001b[39mretry:\n\u001b[1;32m---> 89\u001b[0m     \u001b[38;5;28;01mreturn\u001b[39;00m \u001b[38;5;28;01mawait\u001b[39;00m \u001b[38;5;28mself\u001b[39m\u001b[38;5;241m.\u001b[39m_get_data_async(\n\u001b[0;32m     90\u001b[0m         url, parameters, headers, payload)\n\u001b[0;32m     91\u001b[0m \u001b[38;5;28;01mreturn\u001b[39;00m \u001b[38;5;28;01mawait\u001b[39;00m \u001b[38;5;28mself\u001b[39m\u001b[38;5;241m.\u001b[39m_get_data_async\u001b[38;5;241m.\u001b[39mretry_with(\n\u001b[0;32m     92\u001b[0m         stop\u001b[38;5;241m=\u001b[39mstop_after_attempt(\u001b[38;5;241m1\u001b[39m)\n\u001b[0;32m     93\u001b[0m     )(\u001b[38;5;28mself\u001b[39m, url, parameters, headers, payload)\n",
      "File \u001b[1;32md:\\BITS Pilani\\Software System\\SEM 3\\HCD LLM\\ResearchBot-main\\llm\\Lib\\site-packages\\tenacity\\asyncio\\__init__.py:189\u001b[0m, in \u001b[0;36mAsyncRetrying.wraps.<locals>.async_wrapped\u001b[1;34m(*args, **kwargs)\u001b[0m\n\u001b[0;32m    187\u001b[0m copy \u001b[38;5;241m=\u001b[39m \u001b[38;5;28mself\u001b[39m\u001b[38;5;241m.\u001b[39mcopy()\n\u001b[0;32m    188\u001b[0m async_wrapped\u001b[38;5;241m.\u001b[39mstatistics \u001b[38;5;241m=\u001b[39m copy\u001b[38;5;241m.\u001b[39mstatistics  \u001b[38;5;66;03m# type: ignore[attr-defined]\u001b[39;00m\n\u001b[1;32m--> 189\u001b[0m \u001b[38;5;28;01mreturn\u001b[39;00m \u001b[38;5;28;01mawait\u001b[39;00m copy(fn, \u001b[38;5;241m*\u001b[39margs, \u001b[38;5;241m*\u001b[39m\u001b[38;5;241m*\u001b[39mkwargs)\n",
      "File \u001b[1;32md:\\BITS Pilani\\Software System\\SEM 3\\HCD LLM\\ResearchBot-main\\llm\\Lib\\site-packages\\tenacity\\asyncio\\__init__.py:111\u001b[0m, in \u001b[0;36mAsyncRetrying.__call__\u001b[1;34m(self, fn, *args, **kwargs)\u001b[0m\n\u001b[0;32m    109\u001b[0m retry_state \u001b[38;5;241m=\u001b[39m RetryCallState(retry_object\u001b[38;5;241m=\u001b[39m\u001b[38;5;28mself\u001b[39m, fn\u001b[38;5;241m=\u001b[39mfn, args\u001b[38;5;241m=\u001b[39margs, kwargs\u001b[38;5;241m=\u001b[39mkwargs)\n\u001b[0;32m    110\u001b[0m \u001b[38;5;28;01mwhile\u001b[39;00m \u001b[38;5;28;01mTrue\u001b[39;00m:\n\u001b[1;32m--> 111\u001b[0m     do \u001b[38;5;241m=\u001b[39m \u001b[38;5;28;01mawait\u001b[39;00m \u001b[38;5;28mself\u001b[39m\u001b[38;5;241m.\u001b[39miter(retry_state\u001b[38;5;241m=\u001b[39mretry_state)\n\u001b[0;32m    112\u001b[0m     \u001b[38;5;28;01mif\u001b[39;00m \u001b[38;5;28misinstance\u001b[39m(do, DoAttempt):\n\u001b[0;32m    113\u001b[0m         \u001b[38;5;28;01mtry\u001b[39;00m:\n",
      "File \u001b[1;32md:\\BITS Pilani\\Software System\\SEM 3\\HCD LLM\\ResearchBot-main\\llm\\Lib\\site-packages\\tenacity\\asyncio\\__init__.py:153\u001b[0m, in \u001b[0;36mAsyncRetrying.iter\u001b[1;34m(self, retry_state)\u001b[0m\n\u001b[0;32m    151\u001b[0m result \u001b[38;5;241m=\u001b[39m \u001b[38;5;28;01mNone\u001b[39;00m\n\u001b[0;32m    152\u001b[0m \u001b[38;5;28;01mfor\u001b[39;00m action \u001b[38;5;129;01min\u001b[39;00m \u001b[38;5;28mself\u001b[39m\u001b[38;5;241m.\u001b[39miter_state\u001b[38;5;241m.\u001b[39mactions:\n\u001b[1;32m--> 153\u001b[0m     result \u001b[38;5;241m=\u001b[39m \u001b[38;5;28;01mawait\u001b[39;00m action(retry_state)\n\u001b[0;32m    154\u001b[0m \u001b[38;5;28;01mreturn\u001b[39;00m result\n",
      "File \u001b[1;32md:\\BITS Pilani\\Software System\\SEM 3\\HCD LLM\\ResearchBot-main\\llm\\Lib\\site-packages\\tenacity\\_utils.py:99\u001b[0m, in \u001b[0;36mwrap_to_async_func.<locals>.inner\u001b[1;34m(*args, **kwargs)\u001b[0m\n\u001b[0;32m     98\u001b[0m \u001b[38;5;28;01masync\u001b[39;00m \u001b[38;5;28;01mdef\u001b[39;00m \u001b[38;5;21minner\u001b[39m(\u001b[38;5;241m*\u001b[39margs: typing\u001b[38;5;241m.\u001b[39mAny, \u001b[38;5;241m*\u001b[39m\u001b[38;5;241m*\u001b[39mkwargs: typing\u001b[38;5;241m.\u001b[39mAny) \u001b[38;5;241m-\u001b[39m\u001b[38;5;241m>\u001b[39m typing\u001b[38;5;241m.\u001b[39mAny:\n\u001b[1;32m---> 99\u001b[0m     \u001b[38;5;28;01mreturn\u001b[39;00m \u001b[43mcall\u001b[49m\u001b[43m(\u001b[49m\u001b[38;5;241;43m*\u001b[39;49m\u001b[43margs\u001b[49m\u001b[43m,\u001b[49m\u001b[43m \u001b[49m\u001b[38;5;241;43m*\u001b[39;49m\u001b[38;5;241;43m*\u001b[39;49m\u001b[43mkwargs\u001b[49m\u001b[43m)\u001b[49m\n",
      "File \u001b[1;32md:\\BITS Pilani\\Software System\\SEM 3\\HCD LLM\\ResearchBot-main\\llm\\Lib\\site-packages\\tenacity\\__init__.py:419\u001b[0m, in \u001b[0;36mBaseRetrying._post_stop_check_actions.<locals>.exc_check\u001b[1;34m(rs)\u001b[0m\n\u001b[0;32m    417\u001b[0m \u001b[38;5;28;01mif\u001b[39;00m \u001b[38;5;28mself\u001b[39m\u001b[38;5;241m.\u001b[39mreraise:\n\u001b[0;32m    418\u001b[0m     \u001b[38;5;28;01mraise\u001b[39;00m retry_exc\u001b[38;5;241m.\u001b[39mreraise()\n\u001b[1;32m--> 419\u001b[0m \u001b[38;5;28;01mraise\u001b[39;00m retry_exc \u001b[38;5;28;01mfrom\u001b[39;00m \u001b[38;5;21;01mfut\u001b[39;00m\u001b[38;5;21;01m.\u001b[39;00m\u001b[38;5;21;01mexception\u001b[39;00m()\n",
      "\u001b[1;31mRetryError\u001b[0m: RetryError[<Future at 0x23cdce96690 state=finished raised ConnectionRefusedError>]"
     ]
    }
   ],
   "source": [
    "subproblems = json.loads(response.text)\n",
    "year = date.today().year\n",
    "\n",
    "results = search_semantic_scholar(subproblems[0][\"prompt\"], (year - 10, year))\n",
    "\n",
    "max_results = 15  # Adjust this value based on expected results\n",
    "\n",
    "\n",
    "# Categorize papers\n",
    "categories = cluster_papers(results)\n",
    "\n",
    "# Print results\n",
    "for category, papers in categories.items():\n",
    "    print(f\"Category: {category}\")\n",
    "    for paper in papers:\n",
    "        print(f\"- {paper['title']}\")\n",
    "\n",
    "        \n",
    "# for i, item in enumerate(results):\n",
    "#     if i >= len(results) or i >= max_results:\n",
    "#         break  # Exit when either all results are printed or the limit is reached\n",
    "#     print(item)\n"
   ]
  },
  {
   "cell_type": "code",
   "execution_count": null,
   "metadata": {},
   "outputs": [],
   "source": [
    "\n",
    "\n"
   ]
  }
 ],
 "metadata": {
  "kernelspec": {
   "display_name": "venv",
   "language": "python",
   "name": "python3"
  },
  "language_info": {
   "codemirror_mode": {
    "name": "ipython",
    "version": 3
   },
   "file_extension": ".py",
   "mimetype": "text/x-python",
   "name": "python",
   "nbconvert_exporter": "python",
   "pygments_lexer": "ipython3",
   "version": "3.11.5"
  }
 },
 "nbformat": 4,
 "nbformat_minor": 2
}
